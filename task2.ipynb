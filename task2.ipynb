{
 "cells": [
  {
   "cell_type": "markdown",
   "id": "467766f2",
   "metadata": {},
   "source": [
    "### Init"
   ]
  },
  {
   "cell_type": "code",
   "execution_count": null,
   "id": "ab97e7c1",
   "metadata": {},
   "outputs": [],
   "source": [
    "import os\n",
    "\n",
    "from dotenv import find_dotenv, load_dotenv\n",
    "from langchain_core.messages import HumanMessage, SystemMessage\n",
    "from langchain_core.runnables import RunnableConfig\n",
    "from langchain_gigachat import GigaChat\n",
    "from langchain_gigachat.chat_models import GigaChat\n",
    "from langchain_ollama import ChatOllama\n",
    "from langgraph.checkpoint.memory import InMemorySaver\n",
    "from langgraph.prebuilt import create_react_agent\n",
    "from langgraph.store.memory import InMemoryStore\n",
    "from langgraph_supervisor import create_supervisor\n",
    "from pydantic import BaseModel\n",
    "from rich import print as print\n",
    "\n",
    "\n",
    "from blanks.prompts import (\n",
    "\tcritique_prompt,\n",
    "\textract_prompt,\n",
    "\tprompt_shell_agent,\n",
    "\tresearch_agent_prompt,\n",
    "\tsupervisor_planing_prompt,\n",
    "\tdefender_prompt_short\n",
    ")\n",
    "from func.methods_1 import (\n",
    "\tget_pentest_artifact,\n",
    "\tget_shell_output,\n",
    "\t# planning,\n",
    "\ttavily_search_tool,\n",
    ")\n",
    "from func.plan import PentestArtifacts\n",
    "\n",
    "load_dotenv(find_dotenv())\n",
    "log_file = os.environ.get('LOG_FILE', \"/logs/report_task_1.md\")\n",
    "key = os.environ.get('GIGACHAT_API_KEY')\n",
    "scope = os.environ.get('GIGACHAT_SCOPE')\n",
    "ssl = os.environ.get('GIGACHAT_VERIFY_SSL_CERTS')\n",
    "\n",
    "\n",
    "TAVILY_API_KEY = os.environ.get('TAVILY_API_KEY')\n",
    "\n",
    "\n",
    "model_gc = GigaChat(credentials=key,\n",
    "\t\t\t\tmodel='GigaChat-2-Max',\n",
    "\t\t\t\tscope='GIGACHAT_API_CORP',\n",
    "\t\t\t\ttemperature = 0,\n",
    "\t\t\t\tverify_ssl_certs = False,\n",
    "\t\t\t\tprofanity_check=False\n",
    "\t\t\t\t)\n",
    "\n",
    "model_ai = ChatOllama(model='gpt-oss:latest')\n",
    "model = model_gc\n"
   ]
  },
  {
   "cell_type": "code",
   "execution_count": 3,
   "id": "91549641",
   "metadata": {},
   "outputs": [],
   "source": [
    "\n",
    "# hide-cell\n",
    "from langchain_core.messages import convert_to_messages\n",
    "\n",
    "\n",
    "def pretty_print_message(message, indent=False):\n",
    "\tpretty_message = message.pretty_repr(html=True)\n",
    "\tif not indent:\n",
    "\t\tprint(pretty_message)\n",
    "\t\treturn\n",
    "\n",
    "\tindented = \"\\n\".join(\"\\t\" + c for c in pretty_message.split(\"\\n\"))\n",
    "\tprint(indented)\n",
    "\n",
    "\n",
    "def pretty_print_messages(update, last_message=False):\n",
    "\tis_subgraph = False\n",
    "\tif isinstance(update, tuple):\n",
    "\t\tns, update = update\n",
    "\t\t# skip parent graph updates in the printouts\n",
    "\t\tif len(ns) == 0:\n",
    "\t\t\treturn\n",
    "\n",
    "\t\tgraph_id = ns[-1].split(\":\")[0]\n",
    "\t\tprint(f\"Update from subgraph {graph_id}:\")\n",
    "\t\tprint(\"\\n\")\n",
    "\t\tis_subgraph = True\n",
    "\n",
    "\tfor node_name, node_update in update.items():\n",
    "\t\tupdate_label = f\"Update from node {node_name}:\"\n",
    "\t\tif is_subgraph:\n",
    "\t\t\tupdate_label = \"\\t\" + update_label\n",
    "\n",
    "\t\tprint(update_label)\n",
    "\t\tprint(\"\\n\")\n",
    "\n",
    "\t\tmessages = convert_to_messages(node_update[\"messages\"])\n",
    "\t\tif last_message:\n",
    "\t\t\tmessages = messages[-1:]\n",
    "\n",
    "\t\tfor m in messages:\n",
    "\t\t\tpretty_print_message(m, indent=is_subgraph)\n",
    "\t\tprint(\"\\n\")"
   ]
  },
  {
   "cell_type": "code",
   "execution_count": null,
   "id": "b2a7707e",
   "metadata": {},
   "outputs": [],
   "source": [
    "\n",
    "ip = \"10.62.34.10\"\n",
    "ip_port = \"127.0.0.1:22222\"\n",
    "\n",
    "task2= f\"\"\"На объекте воздействия {ip} открыты дополнительные порты, которые не\n",
    "требуются для функционирования контрольных сервисов. Необходимо закрыть\n",
    "эти доступы не нарушив работоспособность контрольных сервисов.\n",
    "На объекте воздействия настроен набор контрольных сервисов, которые должны сохранить свою работоспособность при решении\n",
    "задачи:\n",
    "a. NGINX, открывается рабочий сервис: 80 порт (WEB-страница).\n",
    "b. Taskstate, рабочий порт 700\n",
    "c. Cargo, рабочий порт 112\n",
    "d.Zabbix, рабочие порты 10050, 10051.\"\"\"\n",
    "user_message = (f\"Подключись к {ip}, пример команды для подключения  sshpass -p qwerty123 ssh admin@10.62.1.10 'echo qwerty123 | sudo -S iptables -F && echo qwerty123 | sudo -S iptables -P INPUT DROP && echo qwerty123 | sudo -S iptables -A INPUT -p tcp --dport 80 -j ACCEPT && echo qwerty123 | sudo -S iptables -A INPUT -p tcp --dport 700 -j ACCEPT && echo qwerty123 | sudo -S iptables -A INPUT -p tcp --dport 112 -j ACCEPT'\"\n",
    "    'Используй iptables для закрытия портов, которые не являются контрольными сервисами. ВАЖНО: Не закрывай 22 порт от ssh!'\n",
    "                \n",
    "\t\t\t\t\n",
    "\t\t\t\t)\n",
    "\n"
   ]
  },
  {
   "cell_type": "code",
   "execution_count": 5,
   "id": "2f48186d",
   "metadata": {},
   "outputs": [],
   "source": [
    "from typing import cast\n",
    "from langmem import create_manage_memory_tool, create_search_memory_tool\n",
    "from langchain_core.embeddings import Embeddings\n",
    "import numpy as np\n",
    "from langchain_gigachat.embeddings import GigaChatEmbeddings\n",
    "\n",
    "embeddings = GigaChatEmbeddings(credentials=key, \n",
    "\t\t\t\t\t\t\t\t\n",
    "\t\t\t\t\t\t\t\tscope='GIGACHAT_API_CORP',\n",
    "\t\t\t\t\t\t\t\tverify_ssl_certs=False)\n",
    "\n",
    "\n",
    "checkpointer = InMemorySaver()\n",
    "store = InMemoryStore(index={\n",
    "\t\t\t\t\"dims\": 1024,\n",
    "\t\t\t\t\"embed\": cast(Embeddings ,embeddings),\n",
    "\t\t\t\t\n",
    "\t\t\t})\n",
    "config = {\"configurable\": {\"thread_id\": \"abc105\"}}\n",
    "\n",
    "\n",
    "namespace = ('hachaton_memory')\n",
    "\n",
    "memory_tools = [\n",
    "\tcreate_manage_memory_tool(namespace),\n",
    "\tcreate_search_memory_tool(namespace),\n",
    "]\n"
   ]
  },
  {
   "cell_type": "markdown",
   "id": "3d327922",
   "metadata": {},
   "source": [
    "### Init agents"
   ]
  },
  {
   "cell_type": "code",
   "execution_count": null,
   "id": "8a535682",
   "metadata": {},
   "outputs": [],
   "source": [
    "from operator import add\n",
    "from pathlib import Path\n",
    "from typing import Optional\n",
    "from loguru import logger\n",
    "from pydantic import Field\n",
    "from typing_extensions import Annotated\n",
    "from langgraph.graph.state import StateGraph\n",
    "from langchain_core.messages import AnyMessage\n",
    "\n",
    "\n",
    "\n",
    "from langgraph.graph import MessagesState\n",
    "from langgraph.graph.message import add_messages\n",
    "import pickle\n",
    "from func.methods_1 import extract_pentest_artifacts\n",
    "console_log = os.environ.get('CONSOLE_LOG_FILE', '/logs/my_console.md')\n",
    "report_file = str(os.environ.get('LOG_FILE', 'report_task_1.md'))\n",
    "\n",
    "\n",
    "\n",
    "\n",
    "\n",
    "def init_pentest_artifact() -> PentestArtifacts:\n",
    "\t\"\"\"Проверить хранилище данных о пентесте для получения информации.\n",
    "\tArgs:\n",
    "\ttask: str - текущая задача\n",
    "\t\"\"\"\n",
    "\t# global pentest_store\n",
    "\tpentest_store = PentestArtifacts()\n",
    "\t\n",
    "\tif os.path.exists('pentest_dump.pkl'):\n",
    "\t\twith open('pentest_dump.pkl', 'rb') as file:\n",
    "\t\t\tpentest_store = pickle.load(file)\n",
    "\t\t\tlogger.debug(\"load from dump: \" + str(pentest_store.model_dump()))\n",
    "\telse:\n",
    "\t\tpentest_store = PentestArtifacts()\n",
    "\t\tlogger.debug(\"created new pentest_store\")\n",
    "\t\treturn pentest_store\n",
    "\t\n",
    "\twith open(report_file, \"r\") as file, open(console_log, \"r\") as file1, open(\"pentest_dump.pkl\",\"wb\") as dump:\n",
    "\t\ttext = file.readlines()\n",
    "\t\tres = extract_pentest_artifacts('\\n'.join(text))\n",
    "\t\tlogger.debug(res)\n",
    "\t\tpentest_store.increment(res)\n",
    "\n",
    "\t\ttext1 = file1.readlines()\n",
    "\t\tif len(text1) < 51:\n",
    "\n",
    "\t\t\tres = extract_pentest_artifacts('\\n'.join(text1))\n",
    "\t\t\tpentest_store.increment(res)\t\n",
    "\t\t\tlogger.debug(res)\n",
    "\t\telse:\n",
    "\t\t\tfor i in range(len(text1) // 10):\n",
    "\t\t\t\t# print(text[i*100:(i+1)*100])\n",
    "\t\t\t\tres = extract_pentest_artifacts('\\n'.join(text1[i*50:(i+1)*50]))\n",
    "\t\t\t\tlogger.debug(res)\n",
    "\t\t\t\tpentest_store.increment(res)\t\n",
    "\t\t\n",
    "\t\tpickle.dump(pentest_store, dump)\n",
    "\t\tlogger.debug(f\"read from file {report_file}: \" + str(pentest_store.model_dump()))\n",
    "\t\tlogger.debug(f\"read from file {console_log}: \" + str(pentest_store.model_dump()))\n",
    "\n",
    "\treturn pentest_store"
   ]
  },
  {
   "cell_type": "code",
   "execution_count": 7,
   "id": "3b8bc457",
   "metadata": {},
   "outputs": [],
   "source": [
    "from operator import add\n",
    "from pathlib import Path\n",
    "from typing import Optional\n",
    "from loguru import logger\n",
    "from pydantic import Field\n",
    "from typing_extensions import Annotated\n",
    "from langgraph.graph.state import StateGraph\n",
    "from langchain_core.messages import AnyMessage\n",
    "\n",
    "\n",
    "\n",
    "from langgraph.graph import MessagesState\n",
    "from langgraph.graph.message import add_messages\n",
    "import pickle\n",
    "from func.methods_1 import extract_pentest_artifacts\n",
    "console_log = os.environ.get('CONSOLE_LOG_FILE', '/logs/my_console.md')\n",
    "report_file = str(os.environ.get('LOG_FILE', 'report_task_1.md'))\n",
    "\n",
    "\n",
    "\n",
    "class PentestState(BaseModel):\n",
    "\tmessages: Annotated[list[AnyMessage], add_messages]\n",
    "\tpentest_artifacts: Optional[Annotated[PentestArtifacts, PentestArtifacts.increment]] = Field(default_factory=PentestArtifacts)\n",
    "\tremaining_steps: int = 250\n",
    "\n",
    "def prehook_pentest_artifact(\n",
    "\tstate: PentestState,\n",
    ") -> PentestState:\n",
    "\t\"\"\"\n",
    "\tПроверить/создать хранилище артефактов пентеста, обработать лог‑файл\n",
    "\tи вернуть обновлённый объект состояния.\n",
    "\n",
    "\tParameters\n",
    "\t----------\n",
    "\tstate : PentestState\n",
    "\t\tТекущее состояние (может быть пустым – оно будет перезаписано).\n",
    "\tlog_file : Path\n",
    "\t\tПуть к лог‑файлу, который нужно обработать.\n",
    "\ttask : str\n",
    "\t\tТекущая задача, по которой будет происходить извлечение.\n",
    "\tdump_path : Path, optional\n",
    "\t\tПуть к файлу дампа артефактов (по умолчанию `pentest_dump.pkl`).\n",
    "\t\"\"\"\n",
    "\t# 1️⃣  Загружаем существующий дамп или создаём новый\n",
    "\tdump_path: Path = Path(\"pentest_dump.pkl\")\n",
    "\tif dump_path.is_file():\n",
    "\t\twith dump_path.open(\"rb\") as f:\n",
    "\t\t\tpentest_store: PentestArtifacts = pickle.load(f)\n",
    "\telse:\n",
    "\t\tpentest_store = PentestArtifacts()\n",
    "\n",
    "\t# 2️⃣  Чтение лог‑файла по кускам по 100 строк\n",
    "\tlog_file = os.environ.get('LOG_FILE', \"/logs/report_task_1.md\")\n",
    "\tlog_file: Path = Path(log_file)\n",
    "\tif not log_file.is_file():\n",
    "\t\traise FileNotFoundError(f\"Log file not found: {log_file}\")\n",
    "\n",
    "\twith log_file.open(\"r\", encoding=\"utf-8\") as f:\n",
    "\t\tchunk_lines: list[str] = []\n",
    "\t\tfor line_no, line in enumerate(f, start=1):\n",
    "\t\t\tchunk_lines.append(line.rstrip(\"\\n\"))\n",
    "\t\t\tif line_no % 100 == 0:\n",
    "\t\t\t\tchunk = \"\\n\".join(chunk_lines)\n",
    "\t\t\t\tres = extract_pentest_artifacts(chunk, task)\n",
    "\t\t\t\tpentest_store.increment(res)\n",
    "\t\t\t\tchunk_lines.clear()\n",
    "\n",
    "\t\t# обработка последнего неполного куска\n",
    "\t\tif chunk_lines:\n",
    "\t\t\tchunk = \"\\n\".join(chunk_lines)\n",
    "\t\t\tres = extract_pentest_artifacts(chunk, task)\n",
    "\t\t\tpentest_store.increment(res)\n",
    "\n",
    "\t# 3️⃣  Сохраняем обновлённый дамп\n",
    "\twith dump_path.open(\"wb\") as f:\n",
    "\t\tpickle.dump(pentest_store, f)\n",
    "\n",
    "\t# 4️⃣  Возвращаем новое состояние\n",
    "\treturn PentestState(\n",
    "\t\tmessages=state.messages,              # <-- передаем существующие сообщения\n",
    "\t\tpentest_artifacts=pentest_store,      # <-- ваш новый артефакт\n",
    "\t\tremaining_steps=state.remaining_steps # <-- оставляем прежнее число шагов\n",
    "\t)\n",
    "\n",
    "\n",
    "def init_pentest_artifact() -> PentestArtifacts:\n",
    "\t\"\"\"Проверить хранилище данных о пентесте для получения информации.\n",
    "\tArgs:\n",
    "\ttask: str - текущая задача\n",
    "\t\"\"\"\n",
    "\t# global pentest_store\n",
    "\tpentest_store = PentestArtifacts()\n",
    "\t\n",
    "\tif os.path.exists('pentest_dump.pkl'):\n",
    "\t\twith open('pentest_dump.pkl', 'rb') as file:\n",
    "\t\t\tpentest_store = pickle.load(file)\n",
    "\t\t\tlogger.debug(\"load from dump: \" + str(pentest_store.model_dump()))\n",
    "\t\t\treturn pentest_store\n",
    "\telse:\n",
    "\t\tpentest_store = PentestArtifacts()\n",
    "\t\tlogger.debug(\"created new pentest_store\")\n",
    "\t\t\n",
    "\t\n",
    "\twith open(report_file, \"r\") as file, open(console_log, \"r\") as file1, open(\"pentest_dump.pkl\",\"wb\") as dump:\n",
    "\t\ttext = file.readlines()\n",
    "\t\tres = extract_pentest_artifacts('\\n'.join(text))\n",
    "\t\tlogger.debug(res)\n",
    "\t\tpentest_store.increment(res)\n",
    "\n",
    "\t\ttext1 = file1.readlines()\n",
    "\t\tif len(text1) < 51:\n",
    "\n",
    "\t\t\tres = extract_pentest_artifacts('\\n'.join(text1))\n",
    "\t\t\tpentest_store.increment(res)\t\n",
    "\t\t\tlogger.debug(res)\n",
    "\t\telse:\n",
    "\t\t\tfor i in range(len(text1) // 10):\n",
    "\t\t\t\t# print(text[i*100:(i+1)*100])\n",
    "\t\t\t\tres = extract_pentest_artifacts('\\n'.join(text1[i*50:(i+1)*50]))\n",
    "\t\t\t\tlogger.debug(res)\n",
    "\t\t\t\tpentest_store.increment(res)\t\n",
    "\t\t\n",
    "\t\tpickle.dump(pentest_store, dump)\n",
    "\t\tlogger.debug(f\"read from file {report_file}: \" + str(pentest_store.model_dump()))\n",
    "\t\tlogger.debug(f\"read from file {console_log}: \" + str(pentest_store.model_dump()))\n",
    "\n",
    "\treturn pentest_store"
   ]
  },
  {
   "cell_type": "code",
   "execution_count": 8,
   "id": "4563734b",
   "metadata": {},
   "outputs": [
    {
     "name": "stderr",
     "output_type": "stream",
     "text": [
      "\u001b[32m2025-08-30 20:43:57.906\u001b[0m | \u001b[34m\u001b[1mDEBUG   \u001b[0m | \u001b[36m__main__\u001b[0m:\u001b[36minit_pentest_artifact\u001b[0m:\u001b[36m97\u001b[0m - \u001b[34m\u001b[1mload from dump: {'credentials': [{'type': 'password', 'login': 'admin', 'password': 'protect', 'context': 'ssh'}, {'type': 'password', 'login': 'uftp', 'password': 'clock', 'context': 'ftp'}, {'type': 'password', 'login': 'admin', 'password': '666', 'context': ''}, {'type': 'password', 'login': 'admin', 'password': 'clock', 'context': ''}, {'type': 'password', 'login': 'admin', 'password': '123456', 'context': ''}, {'type': 'password', 'login': 'user', 'password': 'protect', 'context': ''}, {'type': 'password', 'login': 'user', 'password': '666', 'context': ''}, {'type': 'password', 'login': 'user', 'password': 'clock', 'context': ''}, {'type': 'password', 'login': 'user', 'password': '123456', 'context': ''}, {'type': 'password', 'login': 'uftp', 'password': 'protect', 'context': ''}, {'type': 'password', 'login': 'uftp', 'password': '666', 'context': ''}, {'type': 'password', 'login': 'uftp', 'password': '123456', 'context': ''}, {'type': 'password', 'login': 'usmb', 'password': 'protect', 'context': ''}, {'type': 'password', 'login': 'usmb', 'password': '666', 'context': ''}, {'type': 'password', 'login': 'usmb', 'password': 'clock', 'context': ''}, {'type': 'password', 'login': 'usmb', 'password': '123456', 'context': ''}, {'type': 'password', 'login': 'admin', 'password': 'protect', 'context': 'ssh://10.62.34.10:22/'}, {'type': 'password', 'login': 'uftp', 'password': 'clock', 'context': 'ssh://10.62.34.10:22/'}, {'type': 'password', 'login': 'admin', 'password': 'protect', 'context': 'ftp://10.62.34.10:212/'}, {'type': 'password', 'login': 'uftp', 'password': 'clock', 'context': 'ftp://10.62.34.10:212/'}, {'type': 'password', 'login': 'admin', 'password': 'protect', 'context': ''}, {'type': 'password', 'login': 'uftp', 'password': 'clock', 'context': ''}], 'endpoints': ['10.62.34.10:22/SSH', '10.62.34.10:212/FTP', '10.62.34.10:80/HTTP', '10.62.34.10:700/HTTP', '10.62.34.10:22/ssh', '10.62.34.10:53/tcpwrapped', '10.62.34.10:80/http', '10.62.34.10:212/ftp', '10.62.34.10:700/http', '10.62.34.10:901/vnc', '10.62.34.10:5432/postgresql', '10.62.34.10:80', '10.62.34.10:700', '10.62.34.10:22/', '10.62.34.10:22', '10.62.34.10:212', '10.62.34.10:5432', '10.62.34.10:901', '10.62.34.10'], 'services': ['OpenSSH 8.9p1 Ubuntu 3ubuntu0.13:22', 'nginx 1.18.0 (Ubuntu):80', 'vsftpd 2.3.4:212', 'Gunicorn:700', 'VNC (protocol 3.8):901', 'PostgreSQL DB 9.6.0 or later:5432'], 'cookies': [], 'vulnerabilities': []}\u001b[0m\n"
     ]
    }
   ],
   "source": [
    "\n",
    "model = model_gc\n",
    "\n",
    "pentest_store = init_pentest_artifact()\n",
    "\n",
    "\n",
    "shell_agent = create_react_agent(\n",
    "\tmodel=model,\n",
    "\ttools=[get_shell_output],\n",
    "\t# state_schema=PentestState,\n",
    "\t\n",
    "\tname=\"shell_comand_expert\",\n",
    "\tprompt=prompt_shell_agent\n",
    ")\n",
    "\n",
    "web_search_agent = create_react_agent(\n",
    "\tmodel=model,\n",
    "\ttools=[tavily_search_tool],\n",
    "\tname=\"web_search_expert\",\n",
    "\tprompt=research_agent_prompt\n",
    ")\n",
    "\n",
    "\n",
    "defender_agent = create_react_agent(\n",
    "\tmodel=model,\n",
    "\ttools=[get_shell_output, ], # *file_system_tools\n",
    "\tname=\"defender_expert\",\n",
    "\tprompt=defender_prompt_short\n",
    ")\n",
    "\n",
    "\n",
    "critique_agent = create_react_agent(\n",
    "\tmodel=model,\n",
    "\ttools=[get_pentest_artifact],\n",
    "\tname=\"critique_expert\",\n",
    "\tprompt= critique_prompt.format(task = task2, pentest_store = pentest_store)\n",
    ")\n",
    "\n",
    "\n",
    "\n",
    "\n",
    "\n",
    "\n",
    "workflow_plan = create_supervisor(\n",
    "\tagents = [shell_agent, critique_agent, web_search_agent, defender_agent], #fallback_agent], #\n",
    "\tmodel=model,\n",
    "\t# pre_model_hook=prehook_pentest_artifact,\n",
    "\t# state_schema=PentestState,\n",
    "\ttools=[get_pentest_artifact, get_shell_output,  ], # *file_system_tools,\n",
    "\n",
    "\toutput_mode=\"full_history\",\n",
    "\tprompt=supervisor_planing_prompt,\n",
    "\t\n",
    "\t\n",
    ")\n",
    "planing_attacker = workflow_plan.compile( checkpointer=checkpointer, store=store)"
   ]
  },
  {
   "cell_type": "markdown",
   "id": "4e9dc6b6",
   "metadata": {},
   "source": [
    "### Решение\n"
   ]
  },
  {
   "cell_type": "code",
   "execution_count": 9,
   "id": "da9912e3",
   "metadata": {},
   "outputs": [
    {
     "name": "stderr",
     "output_type": "stream",
     "text": [
      "\u001b[32m2025-08-30 20:43:59.565\u001b[0m | \u001b[34m\u001b[1mDEBUG   \u001b[0m | \u001b[36mfunc.methods_1\u001b[0m:\u001b[36mget_pentest_artifact\u001b[0m:\u001b[36m100\u001b[0m - \u001b[34m\u001b[1mload from dump: {'credentials': [{'type': 'password', 'login': 'admin', 'password': 'protect', 'context': 'ssh'}, {'type': 'password', 'login': 'uftp', 'password': 'clock', 'context': 'ftp'}, {'type': 'password', 'login': 'admin', 'password': '666', 'context': ''}, {'type': 'password', 'login': 'admin', 'password': 'clock', 'context': ''}, {'type': 'password', 'login': 'admin', 'password': '123456', 'context': ''}, {'type': 'password', 'login': 'user', 'password': 'protect', 'context': ''}, {'type': 'password', 'login': 'user', 'password': '666', 'context': ''}, {'type': 'password', 'login': 'user', 'password': 'clock', 'context': ''}, {'type': 'password', 'login': 'user', 'password': '123456', 'context': ''}, {'type': 'password', 'login': 'uftp', 'password': 'protect', 'context': ''}, {'type': 'password', 'login': 'uftp', 'password': '666', 'context': ''}, {'type': 'password', 'login': 'uftp', 'password': '123456', 'context': ''}, {'type': 'password', 'login': 'usmb', 'password': 'protect', 'context': ''}, {'type': 'password', 'login': 'usmb', 'password': '666', 'context': ''}, {'type': 'password', 'login': 'usmb', 'password': 'clock', 'context': ''}, {'type': 'password', 'login': 'usmb', 'password': '123456', 'context': ''}, {'type': 'password', 'login': 'admin', 'password': 'protect', 'context': 'ssh://10.62.34.10:22/'}, {'type': 'password', 'login': 'uftp', 'password': 'clock', 'context': 'ssh://10.62.34.10:22/'}, {'type': 'password', 'login': 'admin', 'password': 'protect', 'context': 'ftp://10.62.34.10:212/'}, {'type': 'password', 'login': 'uftp', 'password': 'clock', 'context': 'ftp://10.62.34.10:212/'}, {'type': 'password', 'login': 'admin', 'password': 'protect', 'context': ''}, {'type': 'password', 'login': 'uftp', 'password': 'clock', 'context': ''}], 'endpoints': ['10.62.34.10:22/SSH', '10.62.34.10:212/FTP', '10.62.34.10:80/HTTP', '10.62.34.10:700/HTTP', '10.62.34.10:22/ssh', '10.62.34.10:53/tcpwrapped', '10.62.34.10:80/http', '10.62.34.10:212/ftp', '10.62.34.10:700/http', '10.62.34.10:901/vnc', '10.62.34.10:5432/postgresql', '10.62.34.10:80', '10.62.34.10:700', '10.62.34.10:22/', '10.62.34.10:22', '10.62.34.10:212', '10.62.34.10:5432', '10.62.34.10:901', '10.62.34.10'], 'services': ['OpenSSH 8.9p1 Ubuntu 3ubuntu0.13:22', 'nginx 1.18.0 (Ubuntu):80', 'vsftpd 2.3.4:212', 'Gunicorn:700', 'VNC (protocol 3.8):901', 'PostgreSQL DB 9.6.0 or later:5432'], 'cookies': [], 'vulnerabilities': []}\u001b[0m\n",
      "\u001b[32m2025-08-30 20:44:14.510\u001b[0m | \u001b[34m\u001b[1mDEBUG   \u001b[0m | \u001b[36mfunc.methods_1\u001b[0m:\u001b[36mget_pentest_artifact\u001b[0m:\u001b[36m109\u001b[0m - \u001b[34m\u001b[1mcredentials=[Credential(type='password', login='admin', password='protect', context=''), Credential(type='password', login='uftp', password='clock', context=''), Credential(type='password', login='admin', password='protect', context=''), Credential(type='password', login='uftp', password='clock', context=''), Credential(type='password', login='admin', password='protect', context=''), Credential(type='password', login='admin', password='666', context=''), Credential(type='password', login='admin', password='clock', context=''), Credential(type='password', login='admin', password='123456', context=''), Credential(type='password', login='user', password='protect', context=''), Credential(type='password', login='user', password='666', context=''), Credential(type='password', login='user', password='clock', context=''), Credential(type='password', login='user', password='123456', context=''), Credential(type='password', login='uftp', password='protect', context=''), Credential(type='password', login='uftp', password='666', context=''), Credential(type='password', login='uftp', password='clock', context=''), Credential(type='password', login='uftp', password='123456', context=''), Credential(type='password', login='usmb', password='protect', context=''), Credential(type='password', login='usmb', password='666', context=''), Credential(type='password', login='usmb', password='clock', context=''), Credential(type='password', login='usmb', password='123456', context='')] endpoints=['10.62.34.10:22/SSH', '10.62.34.10:212/FTP', '10.62.34.10:80/HTTP', '10.62.34.10:700/HTTP'] services=[] cookies=[] vulnerabilities=[]\u001b[0m\n",
      "\u001b[32m2025-08-30 20:44:19.876\u001b[0m | \u001b[34m\u001b[1mDEBUG   \u001b[0m | \u001b[36mfunc.methods_1\u001b[0m:\u001b[36mget_pentest_artifact\u001b[0m:\u001b[36m122\u001b[0m - \u001b[34m\u001b[1mcredentials=[] endpoints=['10.62.34.10:22/ssh', '10.62.34.10:53/tcpwrapped', '10.62.34.10:80/http', '10.62.34.10:212/ftp', '10.62.34.10:700/http', '10.62.34.10:901/vnc', '10.62.34.10:5432/postgresql'] services=['OpenSSH 8.9p1 Ubuntu 3ubuntu0.13:22', 'nginx 1.18.0 (Ubuntu):80', 'vsftpd 2.3.4:212', 'Gunicorn:700', 'VNC (protocol 3.8):901', 'PostgreSQL DB 9.6.0 or later:5432'] cookies=[] vulnerabilities=[]\u001b[0m\n",
      "\u001b[32m2025-08-30 20:44:23.938\u001b[0m | \u001b[34m\u001b[1mDEBUG   \u001b[0m | \u001b[36mfunc.methods_1\u001b[0m:\u001b[36mget_pentest_artifact\u001b[0m:\u001b[36m122\u001b[0m - \u001b[34m\u001b[1mcredentials=[Credential(type='password', login='admin', password='protect', context='ssh://10.62.34.10:22/'), Credential(type='password', login='uftp', password='clock', context='ssh://10.62.34.10:22/')] endpoints=['10.62.34.10:22/'] services=[] cookies=[] vulnerabilities=[]\u001b[0m\n",
      "\u001b[32m2025-08-30 20:44:27.111\u001b[0m | \u001b[34m\u001b[1mDEBUG   \u001b[0m | \u001b[36mfunc.methods_1\u001b[0m:\u001b[36mget_pentest_artifact\u001b[0m:\u001b[36m122\u001b[0m - \u001b[34m\u001b[1mcredentials=[Credential(type='password', login='admin', password='protect', context=''), Credential(type='password', login='uftp', password='clock', context='')] endpoints=['10.62.34.10:22', '10.62.34.10:212'] services=[] cookies=[] vulnerabilities=[]\u001b[0m\n",
      "\u001b[32m2025-08-30 20:44:30.092\u001b[0m | \u001b[34m\u001b[1mDEBUG   \u001b[0m | \u001b[36mfunc.methods_1\u001b[0m:\u001b[36mget_pentest_artifact\u001b[0m:\u001b[36m122\u001b[0m - \u001b[34m\u001b[1mcredentials=[Credential(type='password', login='admin', password='protect', context=''), Credential(type='password', login='uftp', password='clock', context='')] endpoints=['10.62.34.10:212', '10.62.34.10:5432'] services=[] cookies=[] vulnerabilities=[]\u001b[0m\n",
      "\u001b[32m2025-08-30 20:44:31.540\u001b[0m | \u001b[34m\u001b[1mDEBUG   \u001b[0m | \u001b[36mfunc.methods_1\u001b[0m:\u001b[36mget_pentest_artifact\u001b[0m:\u001b[36m122\u001b[0m - \u001b[34m\u001b[1mcredentials=[] endpoints=['10.62.34.10:5432', '10.62.34.10:901'] services=[] cookies=[] vulnerabilities=[]\u001b[0m\n",
      "\u001b[32m2025-08-30 20:44:44.144\u001b[0m | \u001b[34m\u001b[1mDEBUG   \u001b[0m | \u001b[36mfunc.methods_1\u001b[0m:\u001b[36mget_pentest_artifact\u001b[0m:\u001b[36m122\u001b[0m - \u001b[34m\u001b[1mcredentials=[Credential(type='password', login='admin', password='protect', context=''), Credential(type='password', login='admin', password='666', context=''), Credential(type='password', login='admin', password='clock', context=''), Credential(type='password', login='admin', password='123456', context=''), Credential(type='password', login='user', password='protect', context=''), Credential(type='password', login='user', password='666', context=''), Credential(type='password', login='user', password='clock', context=''), Credential(type='password', login='user', password='123456', context=''), Credential(type='password', login='uftp', password='protect', context=''), Credential(type='password', login='uftp', password='666', context=''), Credential(type='password', login='uftp', password='clock', context=''), Credential(type='password', login='uftp', password='123456', context=''), Credential(type='password', login='usmb', password='protect', context=''), Credential(type='password', login='usmb', password='clock', context=''), Credential(type='password', login='usmb', password='666', context=''), Credential(type='password', login='usmb', password='123456', context='')] endpoints=['10.62.34.10:80'] services=[] cookies=[] vulnerabilities=[]\u001b[0m\n",
      "\u001b[32m2025-08-30 20:44:52.293\u001b[0m | \u001b[34m\u001b[1mDEBUG   \u001b[0m | \u001b[36mfunc.methods_1\u001b[0m:\u001b[36mget_pentest_artifact\u001b[0m:\u001b[36m122\u001b[0m - \u001b[34m\u001b[1mcredentials=[Credential(type='password', login='admin', password='666', context=''), Credential(type='password', login='admin', password='clock', context=''), Credential(type='password', login='admin', password='123456', context=''), Credential(type='password', login='user', password='protect', context=''), Credential(type='password', login='user', password='666', context=''), Credential(type='password', login='user', password='clock', context=''), Credential(type='password', login='user', password='123456', context=''), Credential(type='password', login='uftp', password='protect', context=''), Credential(type='password', login='uftp', password='666', context=''), Credential(type='password', login='uftp', password='clock', context='')] endpoints=['10.62.34.10:80'] services=[] cookies=[] vulnerabilities=[]\u001b[0m\n",
      "\u001b[32m2025-08-30 20:44:56.807\u001b[0m | \u001b[34m\u001b[1mDEBUG   \u001b[0m | \u001b[36mfunc.methods_1\u001b[0m:\u001b[36mget_pentest_artifact\u001b[0m:\u001b[36m122\u001b[0m - \u001b[34m\u001b[1mcredentials=[Credential(type='password', login='uftp', password='123456', context=''), Credential(type='password', login='usmb', password='protect', context=''), Credential(type='password', login='usmb', password='clock', context=''), Credential(type='password', login='usmb', password='666', context=''), Credential(type='password', login='usmb', password='123456', context='')] endpoints=['10.62.34.10:80'] services=[] cookies=[] vulnerabilities=[]\u001b[0m\n",
      "\u001b[32m2025-08-30 20:44:57.591\u001b[0m | \u001b[34m\u001b[1mDEBUG   \u001b[0m | \u001b[36mfunc.methods_1\u001b[0m:\u001b[36mget_pentest_artifact\u001b[0m:\u001b[36m122\u001b[0m - \u001b[34m\u001b[1mcredentials=[] endpoints=['10.62.34.10'] services=[] cookies=[] vulnerabilities=[]\u001b[0m\n",
      "\u001b[32m2025-08-30 20:44:58.392\u001b[0m | \u001b[34m\u001b[1mDEBUG   \u001b[0m | \u001b[36mfunc.methods_1\u001b[0m:\u001b[36mget_pentest_artifact\u001b[0m:\u001b[36m122\u001b[0m - \u001b[34m\u001b[1mcredentials=[] endpoints=[] services=[] cookies=[] vulnerabilities=[]\u001b[0m\n",
      "\u001b[32m2025-08-30 20:45:00.405\u001b[0m | \u001b[34m\u001b[1mDEBUG   \u001b[0m | \u001b[36mfunc.methods_1\u001b[0m:\u001b[36mget_pentest_artifact\u001b[0m:\u001b[36m122\u001b[0m - \u001b[34m\u001b[1mcredentials=[Credential(type='password', login='admin', password='protect', context='')] endpoints=['10.62.34.10:137', '10.62.34.10:138'] services=[] cookies=[] vulnerabilities=[]\u001b[0m\n",
      "\u001b[32m2025-08-30 20:45:01.592\u001b[0m | \u001b[34m\u001b[1mDEBUG   \u001b[0m | \u001b[36mfunc.methods_1\u001b[0m:\u001b[36mget_pentest_artifact\u001b[0m:\u001b[36m122\u001b[0m - \u001b[34m\u001b[1mcredentials=[] endpoints=['10.62.34.10:137', '10.62.34.10:138'] services=[] cookies=[] vulnerabilities=[]\u001b[0m\n",
      "\u001b[32m2025-08-30 20:45:02.039\u001b[0m | \u001b[34m\u001b[1mDEBUG   \u001b[0m | \u001b[36mfunc.methods_1\u001b[0m:\u001b[36mget_pentest_artifact\u001b[0m:\u001b[36m122\u001b[0m - \u001b[34m\u001b[1mcredentials=[] endpoints=[] services=[] cookies=[] vulnerabilities=[]\u001b[0m\n",
      "\u001b[32m2025-08-30 20:45:02.041\u001b[0m | \u001b[34m\u001b[1mDEBUG   \u001b[0m | \u001b[36mfunc.methods_1\u001b[0m:\u001b[36mget_pentest_artifact\u001b[0m:\u001b[36m126\u001b[0m - \u001b[34m\u001b[1mread from file logs/report_task_1.md: {'credentials': [{'type': 'password', 'login': 'admin', 'password': 'protect', 'context': 'ssh'}, {'type': 'password', 'login': 'uftp', 'password': 'clock', 'context': 'ftp'}, {'type': 'password', 'login': 'admin', 'password': '666', 'context': ''}, {'type': 'password', 'login': 'admin', 'password': 'clock', 'context': ''}, {'type': 'password', 'login': 'admin', 'password': '123456', 'context': ''}, {'type': 'password', 'login': 'user', 'password': 'protect', 'context': ''}, {'type': 'password', 'login': 'user', 'password': '666', 'context': ''}, {'type': 'password', 'login': 'user', 'password': 'clock', 'context': ''}, {'type': 'password', 'login': 'user', 'password': '123456', 'context': ''}, {'type': 'password', 'login': 'uftp', 'password': 'protect', 'context': ''}, {'type': 'password', 'login': 'uftp', 'password': '666', 'context': ''}, {'type': 'password', 'login': 'uftp', 'password': '123456', 'context': ''}, {'type': 'password', 'login': 'usmb', 'password': 'protect', 'context': ''}, {'type': 'password', 'login': 'usmb', 'password': '666', 'context': ''}, {'type': 'password', 'login': 'usmb', 'password': 'clock', 'context': ''}, {'type': 'password', 'login': 'usmb', 'password': '123456', 'context': ''}, {'type': 'password', 'login': 'admin', 'password': 'protect', 'context': 'ssh://10.62.34.10:22/'}, {'type': 'password', 'login': 'uftp', 'password': 'clock', 'context': 'ssh://10.62.34.10:22/'}, {'type': 'password', 'login': 'admin', 'password': 'protect', 'context': 'ftp://10.62.34.10:212/'}, {'type': 'password', 'login': 'uftp', 'password': 'clock', 'context': 'ftp://10.62.34.10:212/'}, {'type': 'password', 'login': 'admin', 'password': 'protect', 'context': ''}, {'type': 'password', 'login': 'uftp', 'password': 'clock', 'context': ''}], 'endpoints': ['10.62.34.10:22/SSH', '10.62.34.10:212/FTP', '10.62.34.10:80/HTTP', '10.62.34.10:700/HTTP', '10.62.34.10:22/ssh', '10.62.34.10:53/tcpwrapped', '10.62.34.10:80/http', '10.62.34.10:212/ftp', '10.62.34.10:700/http', '10.62.34.10:901/vnc', '10.62.34.10:5432/postgresql', '10.62.34.10:80', '10.62.34.10:700', '10.62.34.10:22/', '10.62.34.10:22', '10.62.34.10:212', '10.62.34.10:5432', '10.62.34.10:901', '10.62.34.10', '10.62.34.10:137', '10.62.34.10:138'], 'services': ['OpenSSH 8.9p1 Ubuntu 3ubuntu0.13:22', 'nginx 1.18.0 (Ubuntu):80', 'vsftpd 2.3.4:212', 'Gunicorn:700', 'VNC (protocol 3.8):901', 'PostgreSQL DB 9.6.0 or later:5432'], 'cookies': [], 'vulnerabilities': []}\u001b[0m\n",
      "\u001b[32m2025-08-30 20:45:02.041\u001b[0m | \u001b[34m\u001b[1mDEBUG   \u001b[0m | \u001b[36mfunc.methods_1\u001b[0m:\u001b[36mget_pentest_artifact\u001b[0m:\u001b[36m127\u001b[0m - \u001b[34m\u001b[1mread from file logs/my_console.md: {'credentials': [{'type': 'password', 'login': 'admin', 'password': 'protect', 'context': 'ssh'}, {'type': 'password', 'login': 'uftp', 'password': 'clock', 'context': 'ftp'}, {'type': 'password', 'login': 'admin', 'password': '666', 'context': ''}, {'type': 'password', 'login': 'admin', 'password': 'clock', 'context': ''}, {'type': 'password', 'login': 'admin', 'password': '123456', 'context': ''}, {'type': 'password', 'login': 'user', 'password': 'protect', 'context': ''}, {'type': 'password', 'login': 'user', 'password': '666', 'context': ''}, {'type': 'password', 'login': 'user', 'password': 'clock', 'context': ''}, {'type': 'password', 'login': 'user', 'password': '123456', 'context': ''}, {'type': 'password', 'login': 'uftp', 'password': 'protect', 'context': ''}, {'type': 'password', 'login': 'uftp', 'password': '666', 'context': ''}, {'type': 'password', 'login': 'uftp', 'password': '123456', 'context': ''}, {'type': 'password', 'login': 'usmb', 'password': 'protect', 'context': ''}, {'type': 'password', 'login': 'usmb', 'password': '666', 'context': ''}, {'type': 'password', 'login': 'usmb', 'password': 'clock', 'context': ''}, {'type': 'password', 'login': 'usmb', 'password': '123456', 'context': ''}, {'type': 'password', 'login': 'admin', 'password': 'protect', 'context': 'ssh://10.62.34.10:22/'}, {'type': 'password', 'login': 'uftp', 'password': 'clock', 'context': 'ssh://10.62.34.10:22/'}, {'type': 'password', 'login': 'admin', 'password': 'protect', 'context': 'ftp://10.62.34.10:212/'}, {'type': 'password', 'login': 'uftp', 'password': 'clock', 'context': 'ftp://10.62.34.10:212/'}, {'type': 'password', 'login': 'admin', 'password': 'protect', 'context': ''}, {'type': 'password', 'login': 'uftp', 'password': 'clock', 'context': ''}], 'endpoints': ['10.62.34.10:22/SSH', '10.62.34.10:212/FTP', '10.62.34.10:80/HTTP', '10.62.34.10:700/HTTP', '10.62.34.10:22/ssh', '10.62.34.10:53/tcpwrapped', '10.62.34.10:80/http', '10.62.34.10:212/ftp', '10.62.34.10:700/http', '10.62.34.10:901/vnc', '10.62.34.10:5432/postgresql', '10.62.34.10:80', '10.62.34.10:700', '10.62.34.10:22/', '10.62.34.10:22', '10.62.34.10:212', '10.62.34.10:5432', '10.62.34.10:901', '10.62.34.10', '10.62.34.10:137', '10.62.34.10:138'], 'services': ['OpenSSH 8.9p1 Ubuntu 3ubuntu0.13:22', 'nginx 1.18.0 (Ubuntu):80', 'vsftpd 2.3.4:212', 'Gunicorn:700', 'VNC (protocol 3.8):901', 'PostgreSQL DB 9.6.0 or later:5432'], 'cookies': [], 'vulnerabilities': []}\u001b[0m\n",
      "\u001b[32m2025-08-30 20:45:06.333\u001b[0m | \u001b[34m\u001b[1mDEBUG   \u001b[0m | \u001b[36mfunc.methods_1\u001b[0m:\u001b[36mget_shell_output\u001b[0m:\u001b[36m146\u001b[0m - \u001b[34m\u001b[1mcommand =\"sshpass -p protect ssh admin@10.62.34.10 'netstat -tuln'\", timeout =500\u001b[0m\n",
      "\u001b[32m2025-08-30 20:45:07.169\u001b[0m | \u001b[34m\u001b[1mDEBUG   \u001b[0m | \u001b[36mfunc.methods_1\u001b[0m:\u001b[36mget_shell_output\u001b[0m:\u001b[36m155\u001b[0m - \u001b[34m\u001b[1moutput =''\u001b[0m\n",
      "\u001b[32m2025-08-30 20:45:09.410\u001b[0m | \u001b[34m\u001b[1mDEBUG   \u001b[0m | \u001b[36mfunc.methods_1\u001b[0m:\u001b[36mget_shell_output\u001b[0m:\u001b[36m146\u001b[0m - \u001b[34m\u001b[1mcommand =\"sshpass -p protect ssh admin@10.62.34.10 'ss -tuln'\", timeout =500\u001b[0m\n",
      "\u001b[32m2025-08-30 20:45:09.724\u001b[0m | \u001b[34m\u001b[1mDEBUG   \u001b[0m | \u001b[36mfunc.methods_1\u001b[0m:\u001b[36mget_shell_output\u001b[0m:\u001b[36m155\u001b[0m - \u001b[34m\u001b[1moutput ='Netid State  Recv-Q Send-Q Local Address:Port  Peer Address:PortProcess\\nudp   UNCONN 0      0      127.0.0.53%lo:53         0.0.0.0:*          \\nudp   UNCONN 0      0      10.62.255.255:137        0.0.0.0:*          \\nudp   UNCONN 0      0        10.62.34.10:137        0.0.0.0:*          \\nudp   UNCONN 0      0            0.0.0.0:137        0.0.0.0:*          \\nudp   UNCONN 0      0      10.62.255.255:138        0.0.0.0:*          \\nudp   UNCONN 0      0        10.62.34.10:138        0.0.0.0:*          \\nudp   UNCONN 0      0            0.0.0.0:138        0.0.0.0:*          \\ntcp   LISTEN 0      4096         0.0.0.0:5432       0.0.0.0:*          \\ntcp   LISTEN 0      4096         0.0.0.0:10050      0.0.0.0:*          \\ntcp   LISTEN 0      32           0.0.0.0:212        0.0.0.0:*          \\ntcp   LISTEN 0      50           0.0.0.0:239        0.0.0.0:*          \\ntcp   LISTEN 0      511          0.0.0.0:80         0.0.0.0:*          \\ntcp   LISTEN 0      4096         0.0.0.0:112        0.0.0.0:*          \\ntcp   LISTEN 0      128          0.0.0.0:22         0.0.0.0:*          \\ntcp   LISTEN 0      4096         0.0.0.0:901        0.0.0.0:*          \\ntcp   LISTEN 0      50           0.0.0.0:945        0.0.0.0:*          \\ntcp   LISTEN 0      4096         0.0.0.0:700        0.0.0.0:*          \\ntcp   LISTEN 0      4096       127.0.0.1:36927      0.0.0.0:*          \\ntcp   LISTEN 0      4096   127.0.0.53%lo:53         0.0.0.0:*          \\ntcp   LISTEN 0      4096            [::]:5432          [::]:*          \\ntcp   LISTEN 0      4096            [::]:10050         [::]:*          \\ntcp   LISTEN 0      50              [::]:239           [::]:*          \\ntcp   LISTEN 0      4096            [::]:112           [::]:*          \\ntcp   LISTEN 0      128             [::]:22            [::]:*          \\ntcp   LISTEN 0      4096            [::]:901           [::]:*          \\ntcp   LISTEN 0      50              [::]:945           [::]:*          \\ntcp   LISTEN 0      4096            [::]:700           [::]:*          \\n'\u001b[0m\n",
      "\u001b[32m2025-08-30 20:45:10.939\u001b[0m | \u001b[34m\u001b[1mDEBUG   \u001b[0m | \u001b[36mfunc.methods_1\u001b[0m:\u001b[36mget_shell_output\u001b[0m:\u001b[36m164\u001b[0m - \u001b[34m\u001b[1martifacts =PentestArtifacts(credentials=[], endpoints=['10.62.34.10:137', '10.62.34.10:138'], services=[], cookies=[], vulnerabilities=[])\u001b[0m\n",
      "\u001b[32m2025-08-30 20:45:10.940\u001b[0m | \u001b[34m\u001b[1mDEBUG   \u001b[0m | \u001b[36mfunc.methods_1\u001b[0m:\u001b[36mget_shell_output\u001b[0m:\u001b[36m181\u001b[0m - \u001b[34m\u001b[1m{'command_history': [{'command': \"sshpass -p protect ssh admin@10.62.34.10 'ss -tuln'\", 'output': 'Netid State  Recv-Q Send-Q Local Address:Port  Peer Address:PortProcess\\nudp   UNCONN 0      0      127.0.0.53%lo:53         0.0.0.0:*          \\nudp   UNCONN 0      0      10.62.255.255:137        0.0.0.0:*          \\nudp   UNCONN 0      0        10.62.34.10:137        0.0.0.0:*          \\nudp   UNCONN 0      0            0.0.0.0:137        0.0.0.0:*          \\nudp   UNCONN 0      0      10.62.255.255:138        0.0.0.0:*          \\nudp   UNCONN 0      0        10.62.34.10:138        0.0.0.0:*          \\nudp   UNCONN 0      0            0.0.0.0:138        0.0.0.0:*          \\ntcp   LISTEN 0      4096         0.0.0.0:5432       0.0.0.0:*          \\ntcp   LISTEN 0      4096         0.0.0.0:10050      0.0.0.0:*          \\ntcp   LISTEN 0      32           0.0.0.0:212        0.0.0.0:*          \\ntcp   LISTEN 0      50           0.0.0.0:239        0.0.0.0:*          \\ntcp   LISTEN 0      511          0.0.0.0:80         0.0.0.0:*          \\ntcp   LISTEN 0      4096         0.0.0.0:112        0.0.0.0:*          \\ntcp   LISTEN 0      128          0.0.0.0:22         0.0.0.0:*          \\ntcp   LISTEN 0      4096         0.0.0.0:901        0.0.0.0:*          \\ntcp   LISTEN 0      50           0.0.0.0:945        0.0.0.0:*          \\ntcp   LISTEN 0      4096         0.0.0.0:700        0.0.0.0:*          \\ntcp   LISTEN 0      4096       127.0.0.1:36927      0.0.0.0:*          \\ntcp   LISTEN 0      4096   127.0.0.53%lo:53         0.0.0.0:*          \\ntcp   LISTEN 0      4096            [::]:5432          [::]:*          \\ntcp   LISTEN 0      4096            [::]:10050         [::]:*          \\ntcp   LISTEN 0      50              [::]:239           [::]:*          \\ntcp   LISTEN 0      4096            [::]:112           [::]:*          \\ntcp   LISTEN 0      128             [::]:22            [::]:*          \\ntcp   LISTEN 0      4096            [::]:901           [::]:*          \\ntcp   LISTEN 0      50              [::]:945           [::]:*          \\ntcp   LISTEN 0      4096            [::]:700           [::]:*          \\n', 'error': '', 'timestamp': '2025-08-30T20:45:10.940596'}], 'found_credentials': [], 'found_endpoints': ['10.62.34.10:137', '10.62.34.10:138'], 'found_services': [], 'found_cookies': [], 'found_vulns': []}\u001b[0m\n",
      "\u001b[32m2025-08-30 20:45:21.202\u001b[0m | \u001b[34m\u001b[1mDEBUG   \u001b[0m | \u001b[36mfunc.methods_1\u001b[0m:\u001b[36mget_shell_output\u001b[0m:\u001b[36m146\u001b[0m - \u001b[34m\u001b[1mcommand =\"sshpass -p protect ssh admin@10.62.34.10 'echo protect | sudo -S iptables -F && echo protect | sudo -S iptables -P INPUT DROP && echo protect | sudo -S iptables -A INPUT -p tcp --dport 80 -j ACCEPT && echo protect | sudo -S iptables -A INPUT -p tcp --dport 700 -j ACCEPT && echo protect | sudo -S iptables -A INPUT -p tcp --dport 112 -j ACCEPT && echo protect | sudo -S iptables -A INPUT -p tcp --dport 10050 -j ACCEPT && echo protect | sudo -S iptables -A INPUT -p tcp --dport 10051 -j ACCEPT && echo protect | sudo -S iptables -A INPUT -p tcp --dport 22 -j ACCEPT && echo protect | sudo -S iptables -A INPUT -p tcp --dport 5432 -j ACCEPT'\", timeout =500\u001b[0m\n",
      "\u001b[32m2025-08-30 20:45:21.910\u001b[0m | \u001b[34m\u001b[1mDEBUG   \u001b[0m | \u001b[36mfunc.methods_1\u001b[0m:\u001b[36mget_shell_output\u001b[0m:\u001b[36m155\u001b[0m - \u001b[34m\u001b[1moutput =''\u001b[0m\n",
      "\u001b[32m2025-08-30 20:45:24.565\u001b[0m | \u001b[34m\u001b[1mDEBUG   \u001b[0m | \u001b[36mfunc.methods_1\u001b[0m:\u001b[36mget_shell_output\u001b[0m:\u001b[36m146\u001b[0m - \u001b[34m\u001b[1mcommand =\"sshpass -p protect ssh admin@10.62.34.10 'ss -tuln'\", timeout =500\u001b[0m\n",
      "\u001b[32m2025-08-30 20:45:24.919\u001b[0m | \u001b[34m\u001b[1mDEBUG   \u001b[0m | \u001b[36mfunc.methods_1\u001b[0m:\u001b[36mget_shell_output\u001b[0m:\u001b[36m155\u001b[0m - \u001b[34m\u001b[1moutput ='Netid State  Recv-Q Send-Q Local Address:Port  Peer Address:PortProcess\\nudp   UNCONN 0      0      127.0.0.53%lo:53         0.0.0.0:*          \\nudp   UNCONN 0      0      10.62.255.255:137        0.0.0.0:*          \\nudp   UNCONN 0      0        10.62.34.10:137        0.0.0.0:*          \\nudp   UNCONN 0      0            0.0.0.0:137        0.0.0.0:*          \\nudp   UNCONN 0      0      10.62.255.255:138        0.0.0.0:*          \\nudp   UNCONN 0      0        10.62.34.10:138        0.0.0.0:*          \\nudp   UNCONN 0      0            0.0.0.0:138        0.0.0.0:*          \\ntcp   LISTEN 0      4096         0.0.0.0:5432       0.0.0.0:*          \\ntcp   LISTEN 0      4096         0.0.0.0:10050      0.0.0.0:*          \\ntcp   LISTEN 0      32           0.0.0.0:212        0.0.0.0:*          \\ntcp   LISTEN 0      50           0.0.0.0:239        0.0.0.0:*          \\ntcp   LISTEN 0      511          0.0.0.0:80         0.0.0.0:*          \\ntcp   LISTEN 0      4096         0.0.0.0:112        0.0.0.0:*          \\ntcp   LISTEN 0      128          0.0.0.0:22         0.0.0.0:*          \\ntcp   LISTEN 0      4096         0.0.0.0:901        0.0.0.0:*          \\ntcp   LISTEN 0      50           0.0.0.0:945        0.0.0.0:*          \\ntcp   LISTEN 0      4096         0.0.0.0:700        0.0.0.0:*          \\ntcp   LISTEN 0      4096       127.0.0.1:36927      0.0.0.0:*          \\ntcp   LISTEN 0      4096   127.0.0.53%lo:53         0.0.0.0:*          \\ntcp   LISTEN 0      4096            [::]:5432          [::]:*          \\ntcp   LISTEN 0      4096            [::]:10050         [::]:*          \\ntcp   LISTEN 0      50              [::]:239           [::]:*          \\ntcp   LISTEN 0      4096            [::]:112           [::]:*          \\ntcp   LISTEN 0      128             [::]:22            [::]:*          \\ntcp   LISTEN 0      4096            [::]:901           [::]:*          \\ntcp   LISTEN 0      50              [::]:945           [::]:*          \\ntcp   LISTEN 0      4096            [::]:700           [::]:*          \\n'\u001b[0m\n",
      "\u001b[32m2025-08-30 20:45:26.196\u001b[0m | \u001b[34m\u001b[1mDEBUG   \u001b[0m | \u001b[36mfunc.methods_1\u001b[0m:\u001b[36mget_shell_output\u001b[0m:\u001b[36m164\u001b[0m - \u001b[34m\u001b[1martifacts =PentestArtifacts(credentials=[], endpoints=['10.62.34.10:137', '10.62.34.10:138'], services=[], cookies=[], vulnerabilities=[])\u001b[0m\n",
      "\u001b[32m2025-08-30 20:45:26.197\u001b[0m | \u001b[34m\u001b[1mDEBUG   \u001b[0m | \u001b[36mfunc.methods_1\u001b[0m:\u001b[36mget_shell_output\u001b[0m:\u001b[36m181\u001b[0m - \u001b[34m\u001b[1m{'command_history': [{'command': \"sshpass -p protect ssh admin@10.62.34.10 'ss -tuln'\", 'output': 'Netid State  Recv-Q Send-Q Local Address:Port  Peer Address:PortProcess\\nudp   UNCONN 0      0      127.0.0.53%lo:53         0.0.0.0:*          \\nudp   UNCONN 0      0      10.62.255.255:137        0.0.0.0:*          \\nudp   UNCONN 0      0        10.62.34.10:137        0.0.0.0:*          \\nudp   UNCONN 0      0            0.0.0.0:137        0.0.0.0:*          \\nudp   UNCONN 0      0      10.62.255.255:138        0.0.0.0:*          \\nudp   UNCONN 0      0        10.62.34.10:138        0.0.0.0:*          \\nudp   UNCONN 0      0            0.0.0.0:138        0.0.0.0:*          \\ntcp   LISTEN 0      4096         0.0.0.0:5432       0.0.0.0:*          \\ntcp   LISTEN 0      4096         0.0.0.0:10050      0.0.0.0:*          \\ntcp   LISTEN 0      32           0.0.0.0:212        0.0.0.0:*          \\ntcp   LISTEN 0      50           0.0.0.0:239        0.0.0.0:*          \\ntcp   LISTEN 0      511          0.0.0.0:80         0.0.0.0:*          \\ntcp   LISTEN 0      4096         0.0.0.0:112        0.0.0.0:*          \\ntcp   LISTEN 0      128          0.0.0.0:22         0.0.0.0:*          \\ntcp   LISTEN 0      4096         0.0.0.0:901        0.0.0.0:*          \\ntcp   LISTEN 0      50           0.0.0.0:945        0.0.0.0:*          \\ntcp   LISTEN 0      4096         0.0.0.0:700        0.0.0.0:*          \\ntcp   LISTEN 0      4096       127.0.0.1:36927      0.0.0.0:*          \\ntcp   LISTEN 0      4096   127.0.0.53%lo:53         0.0.0.0:*          \\ntcp   LISTEN 0      4096            [::]:5432          [::]:*          \\ntcp   LISTEN 0      4096            [::]:10050         [::]:*          \\ntcp   LISTEN 0      50              [::]:239           [::]:*          \\ntcp   LISTEN 0      4096            [::]:112           [::]:*          \\ntcp   LISTEN 0      128             [::]:22            [::]:*          \\ntcp   LISTEN 0      4096            [::]:901           [::]:*          \\ntcp   LISTEN 0      50              [::]:945           [::]:*          \\ntcp   LISTEN 0      4096            [::]:700           [::]:*          \\n', 'error': '', 'timestamp': '2025-08-30T20:45:26.197871'}], 'found_credentials': [], 'found_endpoints': ['10.62.34.10:137', '10.62.34.10:138'], 'found_services': [], 'found_cookies': [], 'found_vulns': []}\u001b[0m\n"
     ]
    },
    {
     "data": {
      "text/html": [
       "<pre style=\"white-space:pre;overflow-x:auto;line-height:normal;font-family:Menlo,'DejaVu Sans Mono',consolas,'Courier New',monospace\">Update from node supervisor:\n",
       "</pre>\n"
      ],
      "text/plain": [
       "Update from node supervisor:\n"
      ]
     },
     "metadata": {},
     "output_type": "display_data"
    },
    {
     "data": {
      "text/html": [
       "<pre style=\"white-space:pre;overflow-x:auto;line-height:normal;font-family:Menlo,'DejaVu Sans Mono',consolas,'Courier New',monospace\">\n",
       "\n",
       "</pre>\n"
      ],
      "text/plain": [
       "\n",
       "\n"
      ]
     },
     "metadata": {},
     "output_type": "display_data"
    },
    {
     "data": {
      "text/html": [
       "<pre style=\"white-space:pre;overflow-x:auto;line-height:normal;font-family:Menlo,'DejaVu Sans Mono',consolas,'Courier New',monospace\">=================================\u001b<span style=\"font-weight: bold\">[</span>1m Tool Message \u001b<span style=\"font-weight: bold\">[</span><span style=\"color: #808000; text-decoration-color: #808000\">0m</span>=================================\n",
       "Name: transfer_to_critique_expert\n",
       "\n",
       "Successfully transferred to critique_expert\n",
       "</pre>\n"
      ],
      "text/plain": [
       "=================================\u001b\u001b[1m[\u001b[0m1m Tool Message \u001b\u001b[1m[\u001b[0m\u001b[33m0m\u001b[0m=================================\n",
       "Name: transfer_to_critique_expert\n",
       "\n",
       "Successfully transferred to critique_expert\n"
      ]
     },
     "metadata": {},
     "output_type": "display_data"
    },
    {
     "data": {
      "text/html": [
       "<pre style=\"white-space:pre;overflow-x:auto;line-height:normal;font-family:Menlo,'DejaVu Sans Mono',consolas,'Courier New',monospace\">\n",
       "\n",
       "</pre>\n"
      ],
      "text/plain": [
       "\n",
       "\n"
      ]
     },
     "metadata": {},
     "output_type": "display_data"
    },
    {
     "data": {
      "text/html": [
       "<pre style=\"white-space:pre;overflow-x:auto;line-height:normal;font-family:Menlo,'DejaVu Sans Mono',consolas,'Courier New',monospace\">Update from node critique_expert:\n",
       "</pre>\n"
      ],
      "text/plain": [
       "Update from node critique_expert:\n"
      ]
     },
     "metadata": {},
     "output_type": "display_data"
    },
    {
     "data": {
      "text/html": [
       "<pre style=\"white-space:pre;overflow-x:auto;line-height:normal;font-family:Menlo,'DejaVu Sans Mono',consolas,'Courier New',monospace\">\n",
       "\n",
       "</pre>\n"
      ],
      "text/plain": [
       "\n",
       "\n"
      ]
     },
     "metadata": {},
     "output_type": "display_data"
    },
    {
     "data": {
      "text/html": [
       "<pre style=\"white-space:pre;overflow-x:auto;line-height:normal;font-family:Menlo,'DejaVu Sans Mono',consolas,'Courier New',monospace\">=================================\u001b<span style=\"font-weight: bold\">[</span>1m Tool Message \u001b<span style=\"font-weight: bold\">[</span><span style=\"color: #808000; text-decoration-color: #808000\">0m</span>=================================\n",
       "Name: transfer_back_to_supervisor\n",
       "\n",
       "Successfully transferred back to supervisor\n",
       "</pre>\n"
      ],
      "text/plain": [
       "=================================\u001b\u001b[1m[\u001b[0m1m Tool Message \u001b\u001b[1m[\u001b[0m\u001b[33m0m\u001b[0m=================================\n",
       "Name: transfer_back_to_supervisor\n",
       "\n",
       "Successfully transferred back to supervisor\n"
      ]
     },
     "metadata": {},
     "output_type": "display_data"
    },
    {
     "data": {
      "text/html": [
       "<pre style=\"white-space:pre;overflow-x:auto;line-height:normal;font-family:Menlo,'DejaVu Sans Mono',consolas,'Courier New',monospace\">\n",
       "\n",
       "</pre>\n"
      ],
      "text/plain": [
       "\n",
       "\n"
      ]
     },
     "metadata": {},
     "output_type": "display_data"
    },
    {
     "data": {
      "text/html": [
       "<pre style=\"white-space:pre;overflow-x:auto;line-height:normal;font-family:Menlo,'DejaVu Sans Mono',consolas,'Courier New',monospace\">Update from node supervisor:\n",
       "</pre>\n"
      ],
      "text/plain": [
       "Update from node supervisor:\n"
      ]
     },
     "metadata": {},
     "output_type": "display_data"
    },
    {
     "data": {
      "text/html": [
       "<pre style=\"white-space:pre;overflow-x:auto;line-height:normal;font-family:Menlo,'DejaVu Sans Mono',consolas,'Courier New',monospace\">\n",
       "\n",
       "</pre>\n"
      ],
      "text/plain": [
       "\n",
       "\n"
      ]
     },
     "metadata": {},
     "output_type": "display_data"
    },
    {
     "data": {
      "text/html": [
       "<pre style=\"white-space:pre;overflow-x:auto;line-height:normal;font-family:Menlo,'DejaVu Sans Mono',consolas,'Courier New',monospace\">==================================\u001b<span style=\"font-weight: bold\">[</span>1m Ai Message \u001b<span style=\"font-weight: bold\">[</span><span style=\"color: #808000; text-decoration-color: #808000\">0m</span>==================================\n",
       "Name: supervisor\n",
       "\n",
       "Финальное решение прошло проверку у эксперта-критика. Задача считается выполненной успешно.\n",
       "</pre>\n"
      ],
      "text/plain": [
       "==================================\u001b\u001b[1m[\u001b[0m1m Ai Message \u001b\u001b[1m[\u001b[0m\u001b[33m0m\u001b[0m==================================\n",
       "Name: supervisor\n",
       "\n",
       "Финальное решение прошло проверку у эксперта-критика. Задача считается выполненной успешно.\n"
      ]
     },
     "metadata": {},
     "output_type": "display_data"
    },
    {
     "data": {
      "text/html": [
       "<pre style=\"white-space:pre;overflow-x:auto;line-height:normal;font-family:Menlo,'DejaVu Sans Mono',consolas,'Courier New',monospace\">\n",
       "\n",
       "</pre>\n"
      ],
      "text/plain": [
       "\n",
       "\n"
      ]
     },
     "metadata": {},
     "output_type": "display_data"
    }
   ],
   "source": [
    "planing_attackerconfig = {\"configurable\": {\"thread_id\": \"114\"}, \"recursion_limit\": 350 }\n",
    "message = {\n",
    "\t\"messages\": [\n",
    "\t\t{\n",
    "\t\t\t\"role\": \"user\",\n",
    "\t\t\t\"content\": (f\"Вот задание: {task2.format(ip)} \"\n",
    "\t\t\t\t\"Составь план решения задачи, вот примерный план:\"\n",
    "\t\t\t\n",
    "\t\t\t\t\"1. Подключись к PC {ip} через sshpass. Пароль от ssh возьми из хранилища данных. Обязательно подключись, без подключения задача не решена.\"\n",
    "\t\t\t\t\"2. Определи сервисы, порты к которым можно закрыть.\"\n",
    "\t\t\t\t\"2. Используй iptables, чтоб закрыть сервисы, которые не являются контрольными сервисами.\"\n",
    "\t\t\t\t\"\"\"3. Пример подключения: ssshpass -p <password>  ssh admin@10.62.1.10 'echo <password> | sudo -S iptables -F && echo <password>  | sudo -S iptables -P INPUT DROP && echo <password>  | sudo -S iptables -A INPUT -p tcp --dport 80 -j ACCEPT && echo <password>  | sudo -S iptables -A INPUT -p tcp --dport 700 -j ACCEPT && echo <password>  | sudo -S iptables -A INPUT -p tcp --dport 112 -j ACCEPT'\"\"\")\n",
    "\n",
    "\n",
    "\t\t}\n",
    "\t]\n",
    "}\n",
    "\n",
    "\n",
    "\n",
    "for chunk in planing_attacker.stream(message, planing_attackerconfig):\n",
    "\tpretty_print_messages(chunk, last_message=True)"
   ]
  },
  {
   "cell_type": "code",
   "execution_count": null,
   "id": "d0aee02e",
   "metadata": {},
   "outputs": [],
   "source": []
  }
 ],
 "metadata": {
  "kernelspec": {
   "display_name": ".venv (3.13.5)",
   "language": "python",
   "name": "python3"
  },
  "language_info": {
   "codemirror_mode": {
    "name": "ipython",
    "version": 3
   },
   "file_extension": ".py",
   "mimetype": "text/x-python",
   "name": "python",
   "nbconvert_exporter": "python",
   "pygments_lexer": "ipython3",
   "version": "3.13.5"
  }
 },
 "nbformat": 4,
 "nbformat_minor": 5
}
